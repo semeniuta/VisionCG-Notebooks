{
 "cells": [
  {
   "cell_type": "markdown",
   "metadata": {},
   "source": [
    "Image moments and equivalent ellipse."
   ]
  },
  {
   "cell_type": "code",
   "execution_count": 1,
   "metadata": {},
   "outputs": [],
   "source": [
    "%matplotlib inline\n",
    "%load_ext autoreload\n",
    "%autoreload 2"
   ]
  },
  {
   "cell_type": "code",
   "execution_count": 2,
   "metadata": {},
   "outputs": [
    {
     "data": {
      "application/javascript": [
       "IPython.OutputArea.prototype._should_scroll = function(lines) {\n",
       "    return false;\n",
       "}\n"
      ],
      "text/plain": [
       "<IPython.core.display.Javascript object>"
      ]
     },
     "metadata": {},
     "output_type": "display_data"
    }
   ],
   "source": [
    "%%javascript\n",
    "IPython.OutputArea.prototype._should_scroll = function(lines) {\n",
    "    return false;\n",
    "}"
   ]
  },
  {
   "cell_type": "code",
   "execution_count": 3,
   "metadata": {},
   "outputs": [],
   "source": [
    "import cv2\n",
    "import numpy as np\n",
    "from matplotlib import pyplot as plt\n",
    "from glob import glob\n",
    "import os\n",
    "from datetime import datetime\n",
    "import math\n",
    "import os\n",
    "import sys\n",
    "import nxpd\n",
    "import skimage\n",
    "\n",
    "nxpd.nxpdParams['show'] = 'ipynb'"
   ]
  },
  {
   "cell_type": "code",
   "execution_count": 4,
   "metadata": {},
   "outputs": [],
   "source": [
    "import initdirs\n",
    "\n",
    "from visioncg import regions\n",
    "from visioncg import viz"
   ]
  },
  {
   "cell_type": "code",
   "execution_count": null,
   "metadata": {},
   "outputs": [],
   "source": []
  },
  {
   "cell_type": "code",
   "execution_count": 5,
   "metadata": {},
   "outputs": [
    {
     "data": {
      "image/png": "[encoded data removed]",
      "text/plain": [
       "<Figure size 432x288 with 1 Axes>"
      ]
     },
     "metadata": {
      "needs_background": "light"
     },
     "output_type": "display_data"
    }
   ],
   "source": [
    "im = np.array(skimage.data.binary_blobs(seed=42), dtype=np.uint8)\n",
    "\n",
    "_ = plt.imshow(im)"
   ]
  },
  {
   "cell_type": "code",
   "execution_count": 6,
   "metadata": {},
   "outputs": [
    {
     "data": {
      "image/png": "[encoded data removed]",
      "text/plain": [
       "<Figure size 432x288 with 1 Axes>"
      ]
     },
     "metadata": {
      "needs_background": "light"
     },
     "output_type": "display_data"
    }
   ],
   "source": [
    "labels, ccomp_df = regions.find_ccomp(im)\n",
    "\n",
    "_ = plt.imshow(labels)"
   ]
  },
  {
   "cell_type": "code",
   "execution_count": 7,
   "metadata": {},
   "outputs": [
    {
     "data": {
      "text/html": [
       "<div>\n",
       "<style scoped>\n",
       "    .dataframe tbody tr th:only-of-type {\n",
       "        vertical-align: middle;\n",
       "    }\n",
       "\n",
       "    .dataframe tbody tr th {\n",
       "        vertical-align: top;\n",
       "    }\n",
       "\n",
       "    .dataframe thead th {\n",
       "        text-align: right;\n",
       "    }\n",
       "</style>\n",
       "<table border=\"1\" class=\"dataframe\">\n",
       "  <thead>\n",
       "    <tr style=\"text-align: right;\">\n",
       "      <th></th>\n",
       "      <th>left</th>\n",
       "      <th>top</th>\n",
       "      <th>width</th>\n",
       "      <th>height</th>\n",
       "      <th>area</th>\n",
       "      <th>x</th>\n",
       "      <th>y</th>\n",
       "    </tr>\n",
       "  </thead>\n",
       "  <tbody>\n",
       "    <tr>\n",
       "      <th>0</th>\n",
       "      <td>0</td>\n",
       "      <td>0</td>\n",
       "      <td>512</td>\n",
       "      <td>512</td>\n",
       "      <td>131072</td>\n",
       "      <td>259.869781</td>\n",
       "      <td>265.256165</td>\n",
       "    </tr>\n",
       "    <tr>\n",
       "      <th>1</th>\n",
       "      <td>99</td>\n",
       "      <td>0</td>\n",
       "      <td>72</td>\n",
       "      <td>47</td>\n",
       "      <td>2576</td>\n",
       "      <td>132.955357</td>\n",
       "      <td>19.943711</td>\n",
       "    </tr>\n",
       "    <tr>\n",
       "      <th>2</th>\n",
       "      <td>0</td>\n",
       "      <td>0</td>\n",
       "      <td>288</td>\n",
       "      <td>182</td>\n",
       "      <td>18950</td>\n",
       "      <td>138.950501</td>\n",
       "      <td>71.288654</td>\n",
       "    </tr>\n",
       "    <tr>\n",
       "      <th>3</th>\n",
       "      <td>243</td>\n",
       "      <td>0</td>\n",
       "      <td>269</td>\n",
       "      <td>204</td>\n",
       "      <td>26522</td>\n",
       "      <td>378.229809</td>\n",
       "      <td>104.229734</td>\n",
       "    </tr>\n",
       "    <tr>\n",
       "      <th>4</th>\n",
       "      <td>0</td>\n",
       "      <td>79</td>\n",
       "      <td>31</td>\n",
       "      <td>45</td>\n",
       "      <td>1170</td>\n",
       "      <td>13.313675</td>\n",
       "      <td>100.858974</td>\n",
       "    </tr>\n",
       "    <tr>\n",
       "      <th>5</th>\n",
       "      <td>0</td>\n",
       "      <td>121</td>\n",
       "      <td>78</td>\n",
       "      <td>92</td>\n",
       "      <td>4738</td>\n",
       "      <td>40.454411</td>\n",
       "      <td>172.962431</td>\n",
       "    </tr>\n",
       "    <tr>\n",
       "      <th>6</th>\n",
       "      <td>392</td>\n",
       "      <td>147</td>\n",
       "      <td>120</td>\n",
       "      <td>189</td>\n",
       "      <td>10158</td>\n",
       "      <td>453.743552</td>\n",
       "      <td>237.177003</td>\n",
       "    </tr>\n",
       "    <tr>\n",
       "      <th>7</th>\n",
       "      <td>167</td>\n",
       "      <td>177</td>\n",
       "      <td>43</td>\n",
       "      <td>47</td>\n",
       "      <td>1574</td>\n",
       "      <td>187.722363</td>\n",
       "      <td>199.332910</td>\n",
       "    </tr>\n",
       "    <tr>\n",
       "      <th>8</th>\n",
       "      <td>74</td>\n",
       "      <td>210</td>\n",
       "      <td>126</td>\n",
       "      <td>119</td>\n",
       "      <td>7834</td>\n",
       "      <td>127.833035</td>\n",
       "      <td>262.646413</td>\n",
       "    </tr>\n",
       "    <tr>\n",
       "      <th>9</th>\n",
       "      <td>0</td>\n",
       "      <td>245</td>\n",
       "      <td>307</td>\n",
       "      <td>267</td>\n",
       "      <td>33481</td>\n",
       "      <td>139.717571</td>\n",
       "      <td>378.349273</td>\n",
       "    </tr>\n",
       "    <tr>\n",
       "      <th>10</th>\n",
       "      <td>302</td>\n",
       "      <td>246</td>\n",
       "      <td>92</td>\n",
       "      <td>64</td>\n",
       "      <td>3244</td>\n",
       "      <td>347.467016</td>\n",
       "      <td>277.196979</td>\n",
       "    </tr>\n",
       "    <tr>\n",
       "      <th>11</th>\n",
       "      <td>483</td>\n",
       "      <td>285</td>\n",
       "      <td>29</td>\n",
       "      <td>43</td>\n",
       "      <td>1068</td>\n",
       "      <td>498.637640</td>\n",
       "      <td>306.047753</td>\n",
       "    </tr>\n",
       "    <tr>\n",
       "      <th>12</th>\n",
       "      <td>302</td>\n",
       "      <td>340</td>\n",
       "      <td>75</td>\n",
       "      <td>107</td>\n",
       "      <td>5189</td>\n",
       "      <td>336.614569</td>\n",
       "      <td>393.482174</td>\n",
       "    </tr>\n",
       "    <tr>\n",
       "      <th>13</th>\n",
       "      <td>397</td>\n",
       "      <td>344</td>\n",
       "      <td>101</td>\n",
       "      <td>104</td>\n",
       "      <td>5869</td>\n",
       "      <td>452.999830</td>\n",
       "      <td>388.871699</td>\n",
       "    </tr>\n",
       "    <tr>\n",
       "      <th>14</th>\n",
       "      <td>364</td>\n",
       "      <td>421</td>\n",
       "      <td>44</td>\n",
       "      <td>44</td>\n",
       "      <td>1520</td>\n",
       "      <td>385.748684</td>\n",
       "      <td>442.730921</td>\n",
       "    </tr>\n",
       "    <tr>\n",
       "      <th>15</th>\n",
       "      <td>228</td>\n",
       "      <td>431</td>\n",
       "      <td>66</td>\n",
       "      <td>51</td>\n",
       "      <td>2627</td>\n",
       "      <td>260.706890</td>\n",
       "      <td>456.051770</td>\n",
       "    </tr>\n",
       "    <tr>\n",
       "      <th>16</th>\n",
       "      <td>281</td>\n",
       "      <td>464</td>\n",
       "      <td>66</td>\n",
       "      <td>48</td>\n",
       "      <td>2369</td>\n",
       "      <td>315.596032</td>\n",
       "      <td>490.578725</td>\n",
       "    </tr>\n",
       "    <tr>\n",
       "      <th>17</th>\n",
       "      <td>443</td>\n",
       "      <td>470</td>\n",
       "      <td>62</td>\n",
       "      <td>42</td>\n",
       "      <td>2183</td>\n",
       "      <td>473.662391</td>\n",
       "      <td>492.234540</td>\n",
       "    </tr>\n",
       "  </tbody>\n",
       "</table>\n",
       "</div>"
      ],
      "text/plain": [
       "    left  top  width  height    area           x           y\n",
       "0      0    0    512     512  131072  259.869781  265.256165\n",
       "1     99    0     72      47    2576  132.955357   19.943711\n",
       "2      0    0    288     182   18950  138.950501   71.288654\n",
       "3    243    0    269     204   26522  378.229809  104.229734\n",
       "4      0   79     31      45    1170   13.313675  100.858974\n",
       "5      0  121     78      92    4738   40.454411  172.962431\n",
       "6    392  147    120     189   10158  453.743552  237.177003\n",
       "7    167  177     43      47    1574  187.722363  199.332910\n",
       "8     74  210    126     119    7834  127.833035  262.646413\n",
       "9      0  245    307     267   33481  139.717571  378.349273\n",
       "10   302  246     92      64    3244  347.467016  277.196979\n",
       "11   483  285     29      43    1068  498.637640  306.047753\n",
       "12   302  340     75     107    5189  336.614569  393.482174\n",
       "13   397  344    101     104    5869  452.999830  388.871699\n",
       "14   364  421     44      44    1520  385.748684  442.730921\n",
       "15   228  431     66      51    2627  260.706890  456.051770\n",
       "16   281  464     66      48    2369  315.596032  490.578725\n",
       "17   443  470     62      42    2183  473.662391  492.234540"
      ]
     },
     "execution_count": 7,
     "metadata": {},
     "output_type": "execute_result"
    }
   ],
   "source": [
    "ccomp_df"
   ]
  },
  {
   "cell_type": "code",
   "execution_count": 8,
   "metadata": {},
   "outputs": [
    {
     "data": {
      "image/png": "[encoded data removed]",
      "text/plain": [
       "<Figure size 1080x1080 with 18 Axes>"
      ]
     },
     "metadata": {
      "needs_background": "light"
     },
     "output_type": "display_data"
    }
   ],
   "source": [
    "plt.figure(figsize=(15, 15))\n",
    "\n",
    "viz.imshow_grid(\n",
    "    images=[labels == label for label in ccomp_df.index],\n",
    "    titles=range(len(ccomp_df.index))\n",
    ")\n",
    "\n",
    "plt.tight_layout()"
   ]
  },
  {
   "cell_type": "code",
   "execution_count": null,
   "metadata": {},
   "outputs": [],
   "source": []
  },
  {
   "cell_type": "code",
   "execution_count": 9,
   "metadata": {},
   "outputs": [],
   "source": [
    "def get_binary_object(labels, val):\n",
    "    return np.array(labels==val, dtype=np.uint8)"
   ]
  },
  {
   "cell_type": "code",
   "execution_count": 10,
   "metadata": {},
   "outputs": [],
   "source": [
    "def plot_ellipse(center_x, center_y, d1, d2, theta):\n",
    "    \n",
    "    from matplotlib.patches import Ellipse\n",
    "\n",
    "    ellipse = Ellipse([center_x, center_y], d1, d2, math.degrees(theta))\n",
    "    ellipse.set_alpha(0.5)\n",
    "    \n",
    "    ax = plt.gca()\n",
    "    ax.add_artist(ellipse)\n",
    "    "
   ]
  },
  {
   "cell_type": "code",
   "execution_count": 11,
   "metadata": {},
   "outputs": [],
   "source": [
    "def plot_object_and_eqellipse(im_binary):\n",
    "    center_x, center_y, d1, d2, theta = regions.region_ellipse_from_moments(im_binary)\n",
    "\n",
    "    plt.imshow(im_binary)\n",
    "    plt.plot(center_x, center_y, 'ro')\n",
    "\n",
    "    plot_ellipse(center_x, center_y, d1, d2, theta)"
   ]
  },
  {
   "cell_type": "code",
   "execution_count": 12,
   "metadata": {},
   "outputs": [
    {
     "data": {
      "image/png": "[encoded data removed]",
      "text/plain": [
       "<Figure size 576x360 with 2 Axes>"
      ]
     },
     "metadata": {
      "needs_background": "light"
     },
     "output_type": "display_data"
    }
   ],
   "source": [
    "plt.figure(figsize=(8, 5))\n",
    "\n",
    "plt.subplot(1, 2, 1)\n",
    "plot_object_and_eqellipse(get_binary_object(labels, 2))\n",
    "_ = plt.axis('off')\n",
    "\n",
    "plt.subplot(1, 2, 2)\n",
    "plot_object_and_eqellipse(get_binary_object(labels, 3))\n",
    "_ = plt.axis('off')"
   ]
  },
  {
   "cell_type": "code",
   "execution_count": null,
   "metadata": {},
   "outputs": [],
   "source": []
  },
  {
   "cell_type": "code",
   "execution_count": 13,
   "metadata": {},
   "outputs": [
    {
     "data": {
      "text/plain": [
       "{'m00': 18950.0,\n",
       " 'm10': 2633112.0,\n",
       " 'm01': 1350920.0,\n",
       " 'm20': 461500016.0,\n",
       " 'm11': 180219314.0,\n",
       " 'm02': 136719572.0,\n",
       " 'm30': 91083758364.0,\n",
       " 'm21': 27617499430.0,\n",
       " 'm12': 18662001658.0,\n",
       " 'm03': 16737103910.0,\n",
       " 'mu20': 95627783.57023746,\n",
       " 'mu11': -7491697.242216378,\n",
       " 'mu02': 40414303.06068601,\n",
       " 'mu30': 383042847.6843262,\n",
       " 'mu21': -3200265519.711149,\n",
       " 'mu12': 732894618.8889656,\n",
       " 'mu03': 1228387034.658369,\n",
       " 'nu20': 0.2662966244184807,\n",
       " 'nu11': -0.020862280942673412,\n",
       " 'nu02': 0.11254252772031943,\n",
       " 'nu30': 0.007748619259610646,\n",
       " 'nu21': -0.0647385512921467,\n",
       " 'nu12': 0.014825812291026419,\n",
       " 'nu03': 0.024849187219008164}"
      ]
     },
     "execution_count": 13,
     "metadata": {},
     "output_type": "execute_result"
    }
   ],
   "source": [
    "cv2.moments(get_binary_object(labels, 2), binaryImage=True)"
   ]
  },
  {
   "cell_type": "code",
   "execution_count": null,
   "metadata": {},
   "outputs": [],
   "source": []
  },
  {
   "cell_type": "code",
   "execution_count": 14,
   "metadata": {},
   "outputs": [],
   "source": [
    "def verify_moments(im_binary):\n",
    "    \n",
    "    m = cv2.moments(im_binary, binaryImage=True)\n",
    "        \n",
    "    x = m['m10'] / m['m00']\n",
    "    y = m['m01'] / m['m00']\n",
    "        \n",
    "    mu20_norm = m['mu20'] / m['m00']\n",
    "    mu02_norm = m['mu02'] / m['m00']\n",
    "    \n",
    "    mu20_my = m['m20'] / m['m00'] - x**2\n",
    "    mu02_my = m['m02'] / m['m00'] - y**2\n",
    "    \n",
    "    assert abs(mu20_norm - mu20_my) < 1e-9\n",
    "    assert abs(mu02_norm - mu02_my) < 1e-9\n",
    "    \n",
    "    \n",
    "verify_moments(get_binary_object(labels, 2))"
   ]
  },
  {
   "cell_type": "code",
   "execution_count": null,
   "metadata": {},
   "outputs": [],
   "source": []
  }
 ],
 "metadata": {
  "kernelspec": {
   "display_name": "Python 3",
   "language": "python",
   "name": "python3"
  },
  "language_info": {
   "codemirror_mode": {
    "name": "ipython",
    "version": 3
   },
   "file_extension": ".py",
   "mimetype": "text/x-python",
   "name": "python",
   "nbconvert_exporter": "python",
   "pygments_lexer": "ipython3",
   "version": "3.6.7"
  }
 },
 "nbformat": 4,
 "nbformat_minor": 2
}
